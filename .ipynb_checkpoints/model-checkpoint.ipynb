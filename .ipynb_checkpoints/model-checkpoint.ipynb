{
 "cells": [
  {
   "cell_type": "markdown",
   "id": "08d154d8",
   "metadata": {},
   "source": [
    "Importing Libraries"
   ]
  },
  {
   "cell_type": "code",
   "execution_count": 1,
   "id": "92290e92",
   "metadata": {},
   "outputs": [],
   "source": [
    "import numpy as np\n",
    "import tensorflow as tf\n",
    "from keras.preprocessing.image import ImageDataGenerator"
   ]
  },
  {
   "cell_type": "markdown",
   "id": "f61212a6",
   "metadata": {},
   "source": [
    "Data Preprocessing Phase:\n",
    "Training Image Processing"
   ]
  },
  {
   "cell_type": "code",
   "execution_count": 2,
   "id": "5ce6b701",
   "metadata": {},
   "outputs": [
    {
     "name": "stdout",
     "output_type": "stream",
     "text": [
      "Found 3897 images belonging to 5 classes.\n"
     ]
    }
   ],
   "source": [
    "#object to used in preprocessing of the dataset\n",
    "train_datagen = ImageDataGenerator(\n",
    "                rescale = 1./255,\n",
    "                shear_range=0.2,\n",
    "                zoom_range=0.2,\n",
    "                horizontal_flip=True)\n",
    "\n",
    "training_set = train_datagen.flow_from_directory('training_set', target_size=(64,64), batch_size=32, class_mode='categorical')"
   ]
  },
  {
   "cell_type": "markdown",
   "id": "debcc4fc",
   "metadata": {},
   "source": [
    "Test Image Processing"
   ]
  },
  {
   "cell_type": "code",
   "execution_count": 3,
   "id": "518d5c40",
   "metadata": {},
   "outputs": [
    {
     "name": "stdout",
     "output_type": "stream",
     "text": [
      "Found 420 images belonging to 5 classes.\n"
     ]
    }
   ],
   "source": [
    "test_datagen = ImageDataGenerator(rescale= 1./255)\n",
    "\n",
    "test_set = test_datagen.flow_from_directory('test_set', target_size=(64,64), batch_size=32, class_mode='categorical') "
   ]
  },
  {
   "cell_type": "markdown",
   "id": "346b3431",
   "metadata": {},
   "source": [
    "# Building Model"
   ]
  },
  {
   "cell_type": "code",
   "execution_count": 4,
   "id": "912e4a1c",
   "metadata": {},
   "outputs": [],
   "source": [
    "cnn = tf.keras.models.Sequential()"
   ]
  },
  {
   "cell_type": "markdown",
   "id": "b78f8524",
   "metadata": {},
   "source": [
    "Building Convolution Layer and Pooling"
   ]
  },
  {
   "cell_type": "code",
   "execution_count": 5,
   "id": "d82c7065",
   "metadata": {},
   "outputs": [],
   "source": [
    "cnn.add(tf.keras.layers.Conv2D(filters=64, kernel_size=3, activation='relu', input_shape=[64,64,3]))\n",
    "cnn.add(tf.keras.layers.MaxPool2D(pool_size=2, strides=2))"
   ]
  },
  {
   "cell_type": "code",
   "execution_count": 6,
   "id": "9fb58058",
   "metadata": {},
   "outputs": [],
   "source": [
    "cnn.add(tf.keras.layers.Conv2D(filters=64, kernel_size=3, activation='relu'))\n",
    "cnn.add(tf.keras.layers.MaxPool2D(pool_size=2, strides=2))"
   ]
  },
  {
   "cell_type": "markdown",
   "id": "28c6c5a0",
   "metadata": {},
   "source": [
    "Building Fully Connected Layer"
   ]
  },
  {
   "cell_type": "code",
   "execution_count": 7,
   "id": "74276391",
   "metadata": {},
   "outputs": [],
   "source": [
    "cnn.add(tf.keras.layers.Dropout(0.5))"
   ]
  },
  {
   "cell_type": "markdown",
   "id": "6e9df747",
   "metadata": {},
   "source": [
    "Flattening the layer"
   ]
  },
  {
   "cell_type": "code",
   "execution_count": 8,
   "id": "3f72b7c4",
   "metadata": {},
   "outputs": [],
   "source": [
    "cnn.add(tf.keras.layers.Flatten())"
   ]
  },
  {
   "cell_type": "markdown",
   "id": "154d3e74",
   "metadata": {},
   "source": [
    "Building the bidden layer and final output layer"
   ]
  },
  {
   "cell_type": "code",
   "execution_count": 9,
   "id": "9a237618",
   "metadata": {},
   "outputs": [],
   "source": [
    "cnn.add(tf.keras.layers.Dense(units=128, activation='relu'))"
   ]
  },
  {
   "cell_type": "code",
   "execution_count": 10,
   "id": "c7287ad8",
   "metadata": {},
   "outputs": [],
   "source": [
    "cnn.add(tf.keras.layers.Dense(units=5, activation='softmax'))"
   ]
  },
  {
   "cell_type": "code",
   "execution_count": 11,
   "id": "92bee2d1",
   "metadata": {},
   "outputs": [],
   "source": [
    "cnn.compile(optimizer='rmsprop', loss='categorical_crossentropy', metrics=['accuracy'])"
   ]
  },
  {
   "cell_type": "code",
   "execution_count": 12,
   "id": "dd73a4f4",
   "metadata": {},
   "outputs": [
    {
     "name": "stdout",
     "output_type": "stream",
     "text": [
      "Epoch 1/27\n",
      "122/122 [==============================] - 41s 324ms/step - loss: 1.3021 - accuracy: 0.4588 - val_loss: 1.5256 - val_accuracy: 0.4310\n",
      "Epoch 2/27\n",
      "122/122 [==============================] - 40s 328ms/step - loss: 1.0779 - accuracy: 0.5745 - val_loss: 1.0080 - val_accuracy: 0.5929\n",
      "Epoch 3/27\n",
      "122/122 [==============================] - 40s 330ms/step - loss: 0.9819 - accuracy: 0.6182 - val_loss: 0.9148 - val_accuracy: 0.6405\n",
      "Epoch 4/27\n",
      "122/122 [==============================] - 40s 325ms/step - loss: 0.8907 - accuracy: 0.6533 - val_loss: 1.2145 - val_accuracy: 0.6238\n",
      "Epoch 5/27\n",
      "122/122 [==============================] - 39s 323ms/step - loss: 0.8318 - accuracy: 0.6787 - val_loss: 0.8431 - val_accuracy: 0.6810\n",
      "Epoch 6/27\n",
      "122/122 [==============================] - 40s 326ms/step - loss: 0.7892 - accuracy: 0.7023 - val_loss: 0.8525 - val_accuracy: 0.6595\n",
      "Epoch 7/27\n",
      "122/122 [==============================] - 40s 323ms/step - loss: 0.7535 - accuracy: 0.7116 - val_loss: 1.1262 - val_accuracy: 0.6262\n",
      "Epoch 8/27\n",
      "122/122 [==============================] - 39s 322ms/step - loss: 0.7303 - accuracy: 0.7277 - val_loss: 0.8411 - val_accuracy: 0.6905\n",
      "Epoch 9/27\n",
      "122/122 [==============================] - 39s 323ms/step - loss: 0.6900 - accuracy: 0.7377 - val_loss: 0.9104 - val_accuracy: 0.6643\n",
      "Epoch 10/27\n",
      "122/122 [==============================] - 39s 322ms/step - loss: 0.6577 - accuracy: 0.7593 - val_loss: 0.7833 - val_accuracy: 0.7214\n",
      "Epoch 11/27\n",
      "122/122 [==============================] - 40s 324ms/step - loss: 0.6489 - accuracy: 0.7585 - val_loss: 0.7688 - val_accuracy: 0.7167\n",
      "Epoch 12/27\n",
      "122/122 [==============================] - 39s 321ms/step - loss: 0.6250 - accuracy: 0.7675 - val_loss: 0.9706 - val_accuracy: 0.7000\n",
      "Epoch 13/27\n",
      "122/122 [==============================] - 40s 324ms/step - loss: 0.6084 - accuracy: 0.7706 - val_loss: 0.7719 - val_accuracy: 0.7286\n",
      "Epoch 14/27\n",
      "122/122 [==============================] - 40s 326ms/step - loss: 0.5867 - accuracy: 0.7829 - val_loss: 0.8622 - val_accuracy: 0.7190\n",
      "Epoch 15/27\n",
      "122/122 [==============================] - 40s 326ms/step - loss: 0.5760 - accuracy: 0.7827 - val_loss: 0.9431 - val_accuracy: 0.7095\n",
      "Epoch 16/27\n",
      "122/122 [==============================] - 40s 326ms/step - loss: 0.5693 - accuracy: 0.7862 - val_loss: 0.8900 - val_accuracy: 0.7071\n",
      "Epoch 17/27\n",
      "122/122 [==============================] - 40s 327ms/step - loss: 0.5296 - accuracy: 0.8014 - val_loss: 0.8489 - val_accuracy: 0.7143\n",
      "Epoch 18/27\n",
      "122/122 [==============================] - 40s 327ms/step - loss: 0.5181 - accuracy: 0.8096 - val_loss: 0.8084 - val_accuracy: 0.7381\n",
      "Epoch 19/27\n",
      "122/122 [==============================] - 40s 325ms/step - loss: 0.4945 - accuracy: 0.8163 - val_loss: 0.9293 - val_accuracy: 0.7262\n",
      "Epoch 20/27\n",
      "122/122 [==============================] - 40s 325ms/step - loss: 0.4965 - accuracy: 0.8129 - val_loss: 1.2051 - val_accuracy: 0.6571\n",
      "Epoch 21/27\n",
      "122/122 [==============================] - 40s 328ms/step - loss: 0.4932 - accuracy: 0.8222 - val_loss: 1.0580 - val_accuracy: 0.7024\n",
      "Epoch 22/27\n",
      "122/122 [==============================] - 40s 326ms/step - loss: 0.4813 - accuracy: 0.8191 - val_loss: 0.8822 - val_accuracy: 0.7071\n",
      "Epoch 23/27\n",
      "122/122 [==============================] - 40s 324ms/step - loss: 0.4578 - accuracy: 0.8276 - val_loss: 0.8861 - val_accuracy: 0.7476\n",
      "Epoch 24/27\n",
      "122/122 [==============================] - 40s 326ms/step - loss: 0.4535 - accuracy: 0.8378 - val_loss: 0.8454 - val_accuracy: 0.7238\n",
      "Epoch 25/27\n",
      "122/122 [==============================] - 40s 327ms/step - loss: 0.4613 - accuracy: 0.8345 - val_loss: 0.8139 - val_accuracy: 0.7500\n",
      "Epoch 26/27\n",
      "122/122 [==============================] - 40s 328ms/step - loss: 0.4371 - accuracy: 0.8453 - val_loss: 0.8955 - val_accuracy: 0.7286\n",
      "Epoch 27/27\n",
      "122/122 [==============================] - 40s 326ms/step - loss: 0.4311 - accuracy: 0.8463 - val_loss: 0.8670 - val_accuracy: 0.7619\n"
     ]
    },
    {
     "data": {
      "text/plain": [
       "<keras.callbacks.History at 0x187710dfbe0>"
      ]
     },
     "execution_count": 12,
     "metadata": {},
     "output_type": "execute_result"
    }
   ],
   "source": [
    "cnn.fit(x=training_set, validation_data=test_set, epochs=27)"
   ]
  },
  {
   "cell_type": "markdown",
   "id": "4e5857e0",
   "metadata": {},
   "source": [
    "As we can see in the last epoch, model achieved an accuracy of 76% which is the maximum."
   ]
  },
  {
   "cell_type": "code",
   "execution_count": 13,
   "id": "e70b2483",
   "metadata": {},
   "outputs": [],
   "source": [
    "#Now, apart from the test_set, I have also tested my model on random images taken from the internet.\n",
    "#I have tested it on 5 images."
   ]
  },
  {
   "cell_type": "code",
   "execution_count": 16,
   "id": "fc05a5cd",
   "metadata": {},
   "outputs": [],
   "source": [
    "# 1)\n",
    "from keras.preprocessing import image\n",
    "test_img = image.load_img('predictions/daisy.jpg', target_size=(64,64))\n",
    "test_img = image.img_to_array(test_img)\n",
    "test_img = np.expand_dims(test_img, axis=0)\n",
    "res = cnn.predict(test_img)"
   ]
  },
  {
   "cell_type": "code",
   "execution_count": 17,
   "id": "a499fcab",
   "metadata": {},
   "outputs": [
    {
     "data": {
      "text/plain": [
       "{'daisy': 0, 'dandelion': 1, 'rose': 2, 'sunflower': 3, 'tulip': 4}"
      ]
     },
     "execution_count": 17,
     "metadata": {},
     "output_type": "execute_result"
    }
   ],
   "source": [
    "training_set.class_indices"
   ]
  },
  {
   "cell_type": "code",
   "execution_count": 18,
   "id": "9ce61bc5",
   "metadata": {},
   "outputs": [
    {
     "name": "stdout",
     "output_type": "stream",
     "text": [
      "[[1. 0. 0. 0. 0.]]\n"
     ]
    }
   ],
   "source": [
    "print(res)                         #It is clear from the output that the model predicted the image correctly."
   ]
  },
  {
   "cell_type": "code",
   "execution_count": 23,
   "id": "008f104c",
   "metadata": {},
   "outputs": [],
   "source": [
    "# 2)\n",
    "from keras.preprocessing import image\n",
    "test_img = image.load_img('predictions/tulip.jpg', target_size=(64,64))\n",
    "test_img = image.img_to_array(test_img)\n",
    "test_img = np.expand_dims(test_img, axis=0)\n",
    "res = cnn.predict(test_img)"
   ]
  },
  {
   "cell_type": "code",
   "execution_count": 24,
   "id": "db6047d4",
   "metadata": {},
   "outputs": [
    {
     "name": "stdout",
     "output_type": "stream",
     "text": [
      "[[0. 0. 0. 0. 1.]]\n"
     ]
    }
   ],
   "source": [
    "print(res) "
   ]
  },
  {
   "cell_type": "code",
   "execution_count": 27,
   "id": "433bae22",
   "metadata": {},
   "outputs": [],
   "source": [
    "# 3)\n",
    "from keras.preprocessing import image\n",
    "test_img = image.load_img('predictions/sunflower.jpg', target_size=(64,64))\n",
    "test_img = image.img_to_array(test_img)\n",
    "test_img = np.expand_dims(test_img, axis=0)\n",
    "res = cnn.predict(test_img)"
   ]
  },
  {
   "cell_type": "code",
   "execution_count": 28,
   "id": "ba85bc33",
   "metadata": {},
   "outputs": [
    {
     "name": "stdout",
     "output_type": "stream",
     "text": [
      "[[0. 0. 0. 1. 0.]]\n"
     ]
    }
   ],
   "source": [
    "print(res)"
   ]
  },
  {
   "cell_type": "code",
   "execution_count": 29,
   "id": "e1398211",
   "metadata": {},
   "outputs": [],
   "source": [
    "# 4)\n",
    "from keras.preprocessing import image\n",
    "test_img = image.load_img('predictions/d2.jpg', target_size=(64,64))\n",
    "test_img = image.img_to_array(test_img)\n",
    "test_img = np.expand_dims(test_img, axis=0)\n",
    "res = cnn.predict(test_img)"
   ]
  },
  {
   "cell_type": "code",
   "execution_count": 30,
   "id": "7267f9fa",
   "metadata": {},
   "outputs": [
    {
     "name": "stdout",
     "output_type": "stream",
     "text": [
      "[[0. 1. 0. 0. 0.]]\n"
     ]
    }
   ],
   "source": [
    "print(res)"
   ]
  },
  {
   "cell_type": "code",
   "execution_count": 31,
   "id": "5f10b695",
   "metadata": {},
   "outputs": [],
   "source": [
    "# 5)\n",
    "from keras.preprocessing import image\n",
    "test_img = image.load_img('predictions/r.jpg', target_size=(64,64))\n",
    "test_img = image.img_to_array(test_img)\n",
    "test_img = np.expand_dims(test_img, axis=0)\n",
    "res = cnn.predict(test_img)"
   ]
  },
  {
   "cell_type": "code",
   "execution_count": 32,
   "id": "222b8bbc",
   "metadata": {},
   "outputs": [
    {
     "name": "stdout",
     "output_type": "stream",
     "text": [
      "[[0. 0. 1. 0. 0.]]\n"
     ]
    }
   ],
   "source": [
    "print(res)"
   ]
  }
 ],
 "metadata": {
  "kernelspec": {
   "display_name": "Python 3",
   "language": "python",
   "name": "python3"
  },
  "language_info": {
   "codemirror_mode": {
    "name": "ipython",
    "version": 3
   },
   "file_extension": ".py",
   "mimetype": "text/x-python",
   "name": "python",
   "nbconvert_exporter": "python",
   "pygments_lexer": "ipython3",
   "version": "3.8.8"
  }
 },
 "nbformat": 4,
 "nbformat_minor": 5
}
